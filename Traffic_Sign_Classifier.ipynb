{
 "cells": [
  {
   "cell_type": "markdown",
   "metadata": {},
   "source": [
    "# Self-Driving Car Engineer Nanodegree\n",
    "\n",
    "## Deep Learning\n",
    "\n",
    "## Project: Build a Traffic Sign Recognition Classifier\n",
    "\n",
    "In this notebook, a template is provided for you to implement your functionality in stages, which is required to successfully complete this project. If additional code is required that cannot be included in the notebook, be sure that the Python code is successfully imported and included in your submission if necessary. \n",
    "\n",
    "> **Note**: Once you have completed all of the code implementations, you need to finalize your work by exporting the iPython Notebook as an HTML document. Before exporting the notebook to html, all of the code cells need to have been run so that reviewers can see the final implementation and output. You can then export the notebook by using the menu above and navigating to  \\n\",\n",
    "    \"**File -> Download as -> HTML (.html)**. Include the finished document along with this notebook as your submission. \n",
    "\n",
    "In addition to implementing code, there is a writeup to complete. The writeup should be completed in a separate file, which can be either a markdown file or a pdf document. There is a [write up template](https://github.com/udacity/CarND-Traffic-Sign-Classifier-Project/blob/master/writeup_template.md) that can be used to guide the writing process. Completing the code template and writeup template will cover all of the [rubric points](https://review.udacity.com/#!/rubrics/481/view) for this project.\n",
    "\n",
    "The [rubric](https://review.udacity.com/#!/rubrics/481/view) contains \"Stand Out Suggestions\" for enhancing the project beyond the minimum requirements. The stand out suggestions are optional. If you decide to pursue the \"stand out suggestions\", you can include the code in this Ipython notebook and also discuss the results in the writeup file.\n",
    "\n",
    "\n",
    ">**Note:** Code and Markdown cells can be executed using the **Shift + Enter** keyboard shortcut. In addition, Markdown cells can be edited by typically double-clicking the cell to enter edit mode."
   ]
  },
  {
   "cell_type": "markdown",
   "metadata": {},
   "source": [
    "---\n",
    "## Step 0: Load The Data"
   ]
  },
  {
   "cell_type": "code",
   "execution_count": 1,
   "metadata": {},
   "outputs": [],
   "source": [
    "# Load pickled data\n",
    "import pickle\n",
    "\n",
    "# TODO: Fill this in based on where you saved the training and testing data\n",
    "\n",
    "training_file = './dataset/train.p'\n",
    "validation_file='./dataset/valid.p'\n",
    "testing_file = './dataset/test.p'\n",
    "\n",
    "with open(training_file, mode='rb') as f:\n",
    "    train = pickle.load(f)\n",
    "with open(validation_file, mode='rb') as f:\n",
    "    valid = pickle.load(f)\n",
    "with open(testing_file, mode='rb') as f:\n",
    "    test = pickle.load(f)\n",
    "    \n",
    "X_train, y_train = train['features'], train['labels']\n",
    "X_valid, y_valid = valid['features'], valid['labels']\n",
    "X_test, y_test = test['features'], test['labels']"
   ]
  },
  {
   "cell_type": "markdown",
   "metadata": {},
   "source": [
    "---\n",
    "\n",
    "## Step 1: Dataset Summary & Exploration\n",
    "\n",
    "The pickled data is a dictionary with 4 key/value pairs:\n",
    "\n",
    "- `'features'` is a 4D array containing raw pixel data of the traffic sign images, (num examples, width, height, channels).\n",
    "- `'labels'` is a 1D array containing the label/class id of the traffic sign. The file `signnames.csv` contains id -> name mappings for each id.\n",
    "- `'sizes'` is a list containing tuples, (width, height) representing the original width and height the image.\n",
    "- `'coords'` is a list containing tuples, (x1, y1, x2, y2) representing coordinates of a bounding box around the sign in the image. **THESE COORDINATES ASSUME THE ORIGINAL IMAGE. THE PICKLED DATA CONTAINS RESIZED VERSIONS (32 by 32) OF THESE IMAGES**\n",
    "\n",
    "Complete the basic data summary below. Use python, numpy and/or pandas methods to calculate the data summary rather than hard coding the results. For example, the [pandas shape method](http://pandas.pydata.org/pandas-docs/stable/generated/pandas.DataFrame.shape.html) might be useful for calculating some of the summary results. "
   ]
  },
  {
   "cell_type": "markdown",
   "metadata": {},
   "source": [
    "### Provide a Basic Summary of the Data Set Using Python, Numpy and/or Pandas"
   ]
  },
  {
   "cell_type": "code",
   "execution_count": 2,
   "metadata": {},
   "outputs": [
    {
     "name": "stdout",
     "output_type": "stream",
     "text": [
      "Number of training examples = 34799\n",
      "Number of validating examples = 4410\n",
      "Number of testing examples = 12630\n",
      "Image data shape = (32, 32, 3)\n",
      "Number of classes = 43\n"
     ]
    }
   ],
   "source": [
    "### Replace each question mark with the appropriate value. \n",
    "### Use python, pandas or numpy methods rather than hard coding the results\n",
    "import numpy as np\n",
    "# TODO: Number of training examples\n",
    "n_train = len(y_train)\n",
    "\n",
    "# TODO: Number of validation examples\n",
    "n_validation = len(y_valid)\n",
    "\n",
    "# TODO: Number of testing examples.\n",
    "n_test = len(y_test)\n",
    "\n",
    "# TODO: What's the shape of an traffic sign image?\n",
    "image_shape = X_train.shape[1:]\n",
    "\n",
    "# TODO: How many unique classes/labels there are in the dataset.\n",
    "n_classes = len(np.unique(y_train))\n",
    "\n",
    "print(\"Number of training examples =\", n_train)\n",
    "print(\"Number of validating examples =\", n_validation)\n",
    "print(\"Number of testing examples =\", n_test)\n",
    "print(\"Image data shape =\", image_shape)\n",
    "print(\"Number of classes =\", n_classes)"
   ]
  },
  {
   "cell_type": "code",
   "execution_count": 3,
   "metadata": {},
   "outputs": [],
   "source": [
    "import pandas as pd\n",
    "signname_df = pd.read_csv('signnames.csv', index_col=0)\n",
    "signname = signname_df.to_dict()['SignName']"
   ]
  },
  {
   "cell_type": "code",
   "execution_count": 4,
   "metadata": {},
   "outputs": [],
   "source": [
    "from sklearn.utils import shuffle\n",
    "X_train, y_train = shuffle(X_train, y_train)"
   ]
  },
  {
   "cell_type": "markdown",
   "metadata": {},
   "source": [
    "### Include an exploratory visualization of the dataset"
   ]
  },
  {
   "cell_type": "markdown",
   "metadata": {},
   "source": [
    "Visualize the German Traffic Signs Dataset using the pickled file(s). This is open ended, suggestions include: plotting traffic sign images, plotting the count of each sign, etc. \n",
    "\n",
    "The [Matplotlib](http://matplotlib.org/) [examples](http://matplotlib.org/examples/index.html) and [gallery](http://matplotlib.org/gallery.html) pages are a great resource for doing visualizations in Python.\n",
    "\n",
    "**NOTE:** It's recommended you start with something simple first. If you wish to do more, come back to it after you've completed the rest of the sections. It can be interesting to look at the distribution of classes in the training, validation and test set. Is the distribution the same? Are there more examples of some classes than others?"
   ]
  },
  {
   "cell_type": "code",
   "execution_count": 5,
   "metadata": {},
   "outputs": [],
   "source": [
    "### Data exploration visualization code goes here.\n",
    "### Feel free to use as many code cells as needed.\n",
    "import matplotlib.pyplot as plt\n",
    "# Visualizations will be shown in the notebook.\n",
    "%matplotlib inline"
   ]
  },
  {
   "cell_type": "code",
   "execution_count": 6,
   "metadata": {},
   "outputs": [],
   "source": [
    "def show_images(images, cols = 1, titles = None):\n",
    "    \"\"\"Display a list of images in a single figure with matplotlib.\n",
    "    \n",
    "    Parameters\n",
    "    ---------\n",
    "    images: List of np.arrays compatible with plt.imshow.\n",
    "    \n",
    "    cols (Default = 1): Number of columns in figure (number of rows is \n",
    "                        set to np.ceil(n_images/float(cols))).\n",
    "    \n",
    "    titles: List of titles corresponding to each image. Must have\n",
    "            the same length as titles.\n",
    "    \"\"\"\n",
    "    assert((titles is None)or (len(images) == len(titles)))\n",
    "    n_images = len(images)\n",
    "    if titles is None: titles = ['Image (%d)' % i for i in range(1,n_images + 1)]\n",
    "    fig = plt.figure()\n",
    "    for n, (image, title) in enumerate(zip(images, titles)):\n",
    "        a = fig.add_subplot(cols, np.ceil(n_images/float(cols)), n + 1)\n",
    "        if image.ndim == 2:\n",
    "            plt.gray()\n",
    "        plt.imshow(image)\n",
    "        a.set_title(title)\n",
    "    fig.set_size_inches(np.array(fig.get_size_inches()) * n_images)\n",
    "    plt.show()"
   ]
  },
  {
   "cell_type": "code",
   "execution_count": 7,
   "metadata": {},
   "outputs": [
    {
     "data": {
      "image/png": "[encoded data removed]",
      "text/plain": [
       "<Figure size 4320x2880 with 10 Axes>"
      ]
     },
     "metadata": {},
     "output_type": "display_data"
    }
   ],
   "source": [
    "show_images(X_train[0:10])"
   ]
  },
  {
   "cell_type": "code",
   "execution_count": 8,
   "metadata": {},
   "outputs": [
    {
     "data": {
      "text/plain": [
       "<matplotlib.axes._subplots.AxesSubplot at 0x7f58bd3b8fd0>"
      ]
     },
     "execution_count": 8,
     "metadata": {},
     "output_type": "execute_result"
    },
    {
     "data": {
      "image/png": "[encoded data removed]",
      "text/plain": [
       "<Figure size 720x720 with 1 Axes>"
      ]
     },
     "metadata": {},
     "output_type": "display_data"
    }
   ],
   "source": [
    "labels_df = pd.DataFrame(y_train)\n",
    "_uniquevalue = pd.value_counts(y_train).sort_index()\n",
    "_uniquevalue.plot(kind='bar', figsize=(10, 10))"
   ]
  },
  {
   "cell_type": "markdown",
   "metadata": {},
   "source": [
    "----\n",
    "\n",
    "## Step 2: Design and Test a Model Architecture\n",
    "\n",
    "Design and implement a deep learning model that learns to recognize traffic signs. Train and test your model on the [German Traffic Sign Dataset](http://benchmark.ini.rub.de/?section=gtsrb&subsection=dataset).\n",
    "\n",
    "The LeNet-5 implementation shown in the [classroom](https://classroom.udacity.com/nanodegrees/nd013/parts/fbf77062-5703-404e-b60c-95b78b2f3f9e/modules/6df7ae49-c61c-4bb2-a23e-6527e69209ec/lessons/601ae704-1035-4287-8b11-e2c2716217ad/concepts/d4aca031-508f-4e0b-b493-e7b706120f81) at the end of the CNN lesson is a solid starting point. You'll have to change the number of classes and possibly the preprocessing, but aside from that it's plug and play! \n",
    "\n",
    "With the LeNet-5 solution from the lecture, you should expect a validation set accuracy of about 0.89. To meet specifications, the validation set accuracy will need to be at least 0.93. It is possible to get an even higher accuracy, but 0.93 is the minimum for a successful project submission. \n",
    "\n",
    "There are various aspects to consider when thinking about this problem:\n",
    "\n",
    "- Neural network architecture (is the network over or underfitting?)\n",
    "- Play around preprocessing techniques (normalization, rgb to grayscale, etc)\n",
    "- Number of examples per label (some have more than others).\n",
    "- Generate fake data.\n",
    "\n",
    "Here is an example of a [published baseline model on this problem](http://yann.lecun.com/exdb/publis/pdf/sermanet-ijcnn-11.pdf). It's not required to be familiar with the approach used in the paper but, it's good practice to try to read papers like these."
   ]
  },
  {
   "cell_type": "markdown",
   "metadata": {},
   "source": [
    "### Pre-process the Data Set (normalization, grayscale, etc.)"
   ]
  },
  {
   "cell_type": "markdown",
   "metadata": {},
   "source": [
    "Minimally, the image data should be normalized so that the data has mean zero and equal variance. For image data, `(pixel - 128)/ 128` is a quick way to approximately normalize the data and can be used in this project. \n",
    "\n",
    "Other pre-processing steps are optional. You can try different techniques to see if it improves performance. \n",
    "\n",
    "Use the code cell (or multiple code cells, if necessary) to implement the first step of your project."
   ]
  },
  {
   "cell_type": "code",
   "execution_count": 9,
   "metadata": {},
   "outputs": [],
   "source": [
    "### Preprocess the data here. It is required to normalize the data. Other preprocessing steps could include \n",
    "### converting to grayscale, etc.\n",
    "### Feel free to use as many code cells as needed."
   ]
  },
  {
   "cell_type": "code",
   "execution_count": 10,
   "metadata": {},
   "outputs": [
    {
     "name": "stderr",
     "output_type": "stream",
     "text": [
      "/home/yoshie/anaconda3/lib/python3.6/site-packages/h5py/__init__.py:36: FutureWarning: Conversion of the second argument of issubdtype from `float` to `np.floating` is deprecated. In future, it will be treated as `np.float64 == np.dtype(float).type`.\n",
      "  from ._conv import register_converters as _register_converters\n"
     ]
    }
   ],
   "source": [
    "# placeholder\n",
    "import tensorflow as tf\n",
    "tf.reset_default_graph()\n",
    "X = tf.placeholder(tf.float32, shape=[None, 32, 32, 3], name='placeholder_X')\n",
    "y = tf.placeholder(tf.int64, [None], name='placeholder_y')"
   ]
  },
  {
   "cell_type": "code",
   "execution_count": 11,
   "metadata": {},
   "outputs": [],
   "source": [
    "# preprocessing: normalize\n",
    "def preprocessing_normalize(X):\n",
    "    return tf.div(tf.subtract(X, 128), 128)"
   ]
  },
  {
   "cell_type": "markdown",
   "metadata": {},
   "source": [
    "### Model Architecture"
   ]
  },
  {
   "cell_type": "code",
   "execution_count": 12,
   "metadata": {},
   "outputs": [],
   "source": [
    "### Define your architecture here.\n",
    "### Feel free to use as many code cells as needed.\n",
    "import tensorflow as tf\n",
    "from tensorflow.contrib.layers import flatten\n",
    "def LeNet(x):    \n",
    "    # Hyperparameters\n",
    "    mu = 0\n",
    "    sigma = 0.1\n",
    "\n",
    "    # SOLUTION: Layer 1: Convolutional. Input = 32x32x1. Output = 28x28x6.\n",
    "    conv1_W = tf.Variable(tf.truncated_normal(shape=(5, 5, 3, 6), mean = mu, stddev = sigma))\n",
    "    conv1_b = tf.Variable(tf.zeros(6))\n",
    "    conv1   = tf.nn.conv2d(x, conv1_W, strides=[1, 1, 1, 1], padding='VALID') + conv1_b\n",
    "\n",
    "    # SOLUTION: Activation.\n",
    "    conv1 = tf.nn.relu(conv1)\n",
    "\n",
    "    # SOLUTION: Pooling. Input = 28x28x6. Output = 14x14x6.\n",
    "    conv1 = tf.nn.max_pool(conv1, ksize=[1, 2, 2, 1], strides=[1, 2, 2, 1], padding='VALID')\n",
    "\n",
    "    # SOLUTION: Layer 2: Convolutional. Output = 10x10x16.\n",
    "    conv2_W = tf.Variable(tf.truncated_normal(shape=(5, 5, 6, 16), mean = mu, stddev = sigma))\n",
    "    conv2_b = tf.Variable(tf.zeros(16))\n",
    "    conv2   = tf.nn.conv2d(conv1, conv2_W, strides=[1, 1, 1, 1], padding='VALID') + conv2_b\n",
    "\n",
    "    # SOLUTION: Activation.\n",
    "    conv2 = tf.nn.relu(conv2)\n",
    "\n",
    "    # SOLUTION: Pooling. Input = 10x10x16. Output = 5x5x16.\n",
    "    conv2 = tf.nn.max_pool(conv2, ksize=[1, 2, 2, 1], strides=[1, 2, 2, 1], padding='VALID')\n",
    "\n",
    "    # SOLUTION: Flatten. Input = 5x5x16. Output = 400.\n",
    "    fc0   = flatten(conv2)\n",
    "\n",
    "    # SOLUTION: Layer 3: Fully Connected. Input = 400. Output = 120.\n",
    "    fc1_W = tf.Variable(tf.truncated_normal(shape=(400, 120), mean = mu, stddev = sigma))\n",
    "    fc1_b = tf.Variable(tf.zeros(120))\n",
    "    fc1   = tf.matmul(fc0, fc1_W) + fc1_b\n",
    "\n",
    "    # SOLUTION: Activation.\n",
    "    fc1    = tf.nn.relu(fc1)\n",
    "\n",
    "    # SOLUTION: Layer 4: Fully Connected. Input = 120. Output = 84.\n",
    "    fc2_W  = tf.Variable(tf.truncated_normal(shape=(120, 84), mean = mu, stddev = sigma))\n",
    "    fc2_b  = tf.Variable(tf.zeros(84))\n",
    "    fc2    = tf.matmul(fc1, fc2_W) + fc2_b\n",
    "\n",
    "    # SOLUTION: Activation.\n",
    "    fc2    = tf.nn.relu(fc2)\n",
    "\n",
    "    # SOLUTION: Layer 5: Fully Connected. Input = 84. Output = 10.\n",
    "    fc3_W  = tf.Variable(tf.truncated_normal(shape=(84, n_classes), mean = mu, stddev = sigma))\n",
    "    fc3_b  = tf.Variable(tf.zeros(n_classes))\n",
    "    logits = tf.matmul(fc2, fc3_W) + fc3_b\n",
    "\n",
    "    return logits"
   ]
  },
  {
   "cell_type": "code",
   "execution_count": 13,
   "metadata": {},
   "outputs": [],
   "source": [
    "# train pipeline\n",
    "learning_rate = 0.001\n",
    "logits = LeNet(preprocessing_normalize(X))\n",
    "one_hot_labels = tf.one_hot(y, n_classes, dtype=tf.int64)\n",
    "probabilites = tf.nn.softmax(logits=logits)\n",
    "cross_entropy = tf.nn.softmax_cross_entropy_with_logits_v2(logits=logits, labels=one_hot_labels)\n",
    "optimizer = tf.train.AdamOptimizer(learning_rate=learning_rate).minimize(cross_entropy)"
   ]
  },
  {
   "cell_type": "code",
   "execution_count": 14,
   "metadata": {},
   "outputs": [],
   "source": [
    "# evaluate pipeline\n",
    "prediction = tf.argmax(logits, axis=1)\n",
    "correct_prediction = tf.cast(tf.equal(prediction, y), tf.float32)\n",
    "accuracy = tf.reduce_mean(correct_prediction)"
   ]
  },
  {
   "cell_type": "markdown",
   "metadata": {},
   "source": [
    "### Train, Validate and Test the Model\n",
    "\n",
    "A validation set can be used to assess how well the model is performing. A low accuracy on the training and validation\n",
    "sets imply underfitting. A high accuracy on the training set but low accuracy on the validation set implies overfitting."
   ]
  },
  {
   "cell_type": "code",
   "execution_count": 15,
   "metadata": {
    "scrolled": false
   },
   "outputs": [
    {
     "name": "stderr",
     "output_type": "stream",
     "text": [
      "train acc:1.00, valid acc:0.89: 100%|██████████| 100/100 [04:18<00:00,  2.58s/epoch]\n"
     ]
    },
    {
     "name": "stdout",
     "output_type": "stream",
     "text": [
      "test acc:0.90\n"
     ]
    }
   ],
   "source": [
    "### Train your model here.\n",
    "### Calculate and report the accuracy on the training and validation set.\n",
    "### Once a final model architecture is selected, \n",
    "### the accuracy on the test set should be calculated and reported as well.\n",
    "### Feel free to use as many code cells as needed.\n",
    "from tqdm import tqdm\n",
    "from tqdm import trange\n",
    "epochs = 100\n",
    "batch_size = 512\n",
    "save_path = './model'\n",
    "saver = tf.train.Saver()\n",
    "with tf.Session() as sess:\n",
    "    sess.run(tf.global_variables_initializer())\n",
    "    valid_dict = {X: X_valid, y: y_valid}\n",
    "    with trange(epochs, unit='epoch') as t:\n",
    "        for epoch in t:\n",
    "            num_batches = n_train//batch_size\n",
    "            for batch in range(num_batches):\n",
    "                start = batch_size * batch\n",
    "                end = start + batch_size\n",
    "                features = X_train[start: end]\n",
    "                labels = y_train[start: end]\n",
    "                feed_dict = {X: features, y: labels}\n",
    "                sess.run(optimizer, feed_dict)\n",
    "                train_acc = sess.run(accuracy, feed_dict)\n",
    "                valid_acc = sess.run(accuracy, valid_dict)\n",
    "                t.set_description('train acc:{:.2f}, valid acc:{:.2f}'.format(train_acc,valid_acc))\n",
    "        saver.save(sess, save_path)                                                                      \n",
    "        features = X_test\n",
    "        labels = y_test\n",
    "        # uncomment below when finished training.\n",
    "        print('test acc:{:.2f}'.format(sess.run(accuracy, feed_dict={X: features, y: labels})))"
   ]
  },
  {
   "cell_type": "markdown",
   "metadata": {},
   "source": [
    "---\n",
    "\n",
    "## Step 3: Test a Model on New Images\n",
    "\n",
    "To give yourself more insight into how your model is working, download at least five pictures of German traffic signs from the web and use your model to predict the traffic sign type.\n",
    "\n",
    "You may find `signnames.csv` useful as it contains mappings from the class id (integer) to the actual sign name."
   ]
  },
  {
   "cell_type": "markdown",
   "metadata": {},
   "source": [
    "### Load and Output the Images"
   ]
  },
  {
   "cell_type": "code",
   "execution_count": 16,
   "metadata": {},
   "outputs": [],
   "source": [
    "import PIL\n",
    "from PIL import Image\n",
    "def read_image_and_scale(img_address, size=(32, 32)):\n",
    "    '''\n",
    "    Read image file from img_address and return scale image data.\n",
    "    \n",
    "    Parameter:\n",
    "        img_address: string of the jpg file\n",
    "    Return:\n",
    "        numpy array of scaled image.\n",
    "    '''\n",
    "    image = Image.open(img_address).resize(size)\n",
    "    image.load()\n",
    "    return np.asarray(image)"
   ]
  },
  {
   "cell_type": "code",
   "execution_count": 17,
   "metadata": {},
   "outputs": [
    {
     "data": {
      "image/png": "[encoded data removed]",
      "text/plain": [
       "<Figure size 2160x1440 with 5 Axes>"
      ]
     },
     "metadata": {},
     "output_type": "display_data"
    }
   ],
   "source": [
    "### Load the images and plot them here.\n",
    "### Feel free to use as many code cells as needed.\n",
    "import glob2\n",
    "addresses = glob2.glob('./dataset/*.jpg')\n",
    "images_array = np.stack([read_image_and_scale(img) for img in addresses])\n",
    "show_images(images_array)"
   ]
  },
  {
   "cell_type": "markdown",
   "metadata": {},
   "source": [
    "### Predict the Sign Type for Each Image"
   ]
  },
  {
   "cell_type": "code",
   "execution_count": 18,
   "metadata": {},
   "outputs": [],
   "source": [
    "### Run the predictions here and use the model to output the prediction for each image.\n",
    "### Make sure to pre-process the images with the same pre-processing pipeline used earlier.\n",
    "### Feel free to use as many code cells as needed."
   ]
  },
  {
   "cell_type": "code",
   "execution_count": 19,
   "metadata": {},
   "outputs": [
    {
     "name": "stdout",
     "output_type": "stream",
     "text": [
      "INFO:tensorflow:Restoring parameters from ./model\n"
     ]
    }
   ],
   "source": [
    "import glob2\n",
    "saver = tf.train.Saver()\n",
    "with tf.Session() as sess:\n",
    "    saver.restore(sess, save_path)\n",
    "    indexes = sess.run(prediction, feed_dict={X: images_array})\n",
    "    top_k_indexes = sess.run(tf.nn.top_k(probabilites, k=5), feed_dict={X: images_array})"
   ]
  },
  {
   "cell_type": "code",
   "execution_count": 20,
   "metadata": {},
   "outputs": [
    {
     "data": {
      "image/png": "[encoded data removed]",
      "text/plain": [
       "<Figure size 2160x1440 with 5 Axes>"
      ]
     },
     "metadata": {},
     "output_type": "display_data"
    }
   ],
   "source": [
    "show_images(images_array, cols=2, titles=[signname[title] for title in indexes])"
   ]
  },
  {
   "cell_type": "markdown",
   "metadata": {},
   "source": [
    "### Analyze Performance"
   ]
  },
  {
   "cell_type": "markdown",
   "metadata": {
    "collapsed": true
   },
   "source": [
    "### Calculate the accuracy for these 5 new images. \n",
    "### For example, if the model predicted 1 out of 5 signs correctly, it's 20% accurate on these new images.\n",
    "The accuracy is 5/5, 100%"
   ]
  },
  {
   "cell_type": "markdown",
   "metadata": {},
   "source": [
    "### Output Top 5 Softmax Probabilities For Each Image Found on the Web"
   ]
  },
  {
   "cell_type": "markdown",
   "metadata": {},
   "source": [
    "For each of the new images, print out the model's softmax probabilities to show the **certainty** of the model's predictions (limit the output to the top 5 probabilities for each image). [`tf.nn.top_k`](https://www.tensorflow.org/versions/r0.12/api_docs/python/nn.html#top_k) could prove helpful here. \n",
    "\n",
    "The example below demonstrates how tf.nn.top_k can be used to find the top k predictions for each image.\n",
    "\n",
    "`tf.nn.top_k` will return the values and indices (class ids) of the top k predictions. So if k=3, for each sign, it'll return the 3 largest probabilities (out of a possible 43) and the correspoding class ids.\n",
    "\n",
    "Take this numpy array as an example. The values in the array represent predictions. The array contains softmax probabilities for five candidate images with six possible classes. `tf.nn.top_k` is used to choose the three classes with the highest probability:\n",
    "\n",
    "```\n",
    "# (5, 6) array\n",
    "a = np.array([[ 0.24879643,  0.07032244,  0.12641572,  0.34763842,  0.07893497,\n",
    "         0.12789202],\n",
    "       [ 0.28086119,  0.27569815,  0.08594638,  0.0178669 ,  0.18063401,\n",
    "         0.15899337],\n",
    "       [ 0.26076848,  0.23664738,  0.08020603,  0.07001922,  0.1134371 ,\n",
    "         0.23892179],\n",
    "       [ 0.11943333,  0.29198961,  0.02605103,  0.26234032,  0.1351348 ,\n",
    "         0.16505091],\n",
    "       [ 0.09561176,  0.34396535,  0.0643941 ,  0.16240774,  0.24206137,\n",
    "         0.09155967]])\n",
    "```\n",
    "\n",
    "Running it through `sess.run(tf.nn.top_k(tf.constant(a), k=3))` produces:\n",
    "\n",
    "```\n",
    "TopKV2(values=array([[ 0.34763842,  0.24879643,  0.12789202],\n",
    "       [ 0.28086119,  0.27569815,  0.18063401],\n",
    "       [ 0.26076848,  0.23892179,  0.23664738],\n",
    "       [ 0.29198961,  0.26234032,  0.16505091],\n",
    "       [ 0.34396535,  0.24206137,  0.16240774]]), indices=array([[3, 0, 5],\n",
    "       [0, 1, 4],\n",
    "       [0, 5, 1],\n",
    "       [1, 3, 5],\n",
    "       [1, 4, 3]], dtype=int32))\n",
    "```\n",
    "\n",
    "Looking just at the first row we get `[ 0.34763842,  0.24879643,  0.12789202]`, you can confirm these are the 3 largest probabilities in `a`. You'll also notice `[3, 0, 5]` are the corresponding indices."
   ]
  },
  {
   "cell_type": "code",
   "execution_count": 21,
   "metadata": {},
   "outputs": [
    {
     "name": "stdout",
     "output_type": "stream",
     "text": [
      "[ 9 36 14  4 33]\n",
      "\n",
      "[(0.97224134, 'No passing'), (0.0264991, 'No passing for vehicles over 3.5 metric tons'), (0.0007204019, 'Beware of ice/snow'), (0.00036350047, 'Turn right ahead'), (0.00017361685, 'Ahead only')]\n",
      "\n",
      "[(0.6114427, 'Go straight or right'), (0.38854542, 'Turn left ahead'), (1.1871706e-05, 'Keep right'), (2.3957007e-08, 'Dangerous curve to the right'), (1.584194e-10, 'End of no passing')]\n",
      "\n",
      "[(1.0, 'Stop'), (3.862254e-20, 'Yield'), (3.545863e-22, 'Speed limit (60km/h)'), (1.9249677e-26, 'No entry'), (7.262805e-28, 'Bicycles crossing')]\n",
      "\n",
      "[(1.0, 'Speed limit (70km/h)'), (2.9391105e-13, 'Speed limit (30km/h)'), (1.3088322e-21, 'Speed limit (20km/h)'), (8.050568e-23, 'Speed limit (80km/h)'), (7.6781615e-29, 'Speed limit (50km/h)')]\n",
      "\n",
      "[(0.96397084, 'Turn right ahead'), (0.021816697, 'Turn left ahead'), (0.0142107, 'Ahead only'), (1.8469806e-06, 'Keep right'), (1.6759039e-08, 'End of no passing')]\n"
     ]
    }
   ],
   "source": [
    "### Print out the top five softmax probabilities for the predictions on the German traffic sign images found on the web. \n",
    "### Feel free to use as many code cells as needed.\n",
    "print(indexes)\n",
    "pro_list, each_list = top_k_indexes\n",
    "for prob, index in zip(pro_list, each_list):\n",
    "    # prob: [0.xx, 0.xx, ...], name: [x, x, ,x ..., x]\n",
    "    print()\n",
    "    print([(prob[i], signname[index[i]]) for i in range(5)])"
   ]
  },
  {
   "cell_type": "markdown",
   "metadata": {},
   "source": [
    "### Project Writeup\n",
    "\n",
    "Once you have completed the code implementation, document your results in a project writeup using this [template](https://github.com/udacity/CarND-Traffic-Sign-Classifier-Project/blob/master/writeup_template.md) as a guide. The writeup can be in a markdown or pdf file. "
   ]
  },
  {
   "cell_type": "markdown",
   "metadata": {},
   "source": [
    "> **Note**: Once you have completed all of the code implementations and successfully answered each question above, you may finalize your work by exporting the iPython Notebook as an HTML document. You can do this by using the menu above and navigating to  \\n\",\n",
    "    \"**File -> Download as -> HTML (.html)**. Include the finished document along with this notebook as your submission."
   ]
  },
  {
   "cell_type": "markdown",
   "metadata": {},
   "source": [
    "---\n",
    "\n",
    "## Step 4 (Optional): Visualize the Neural Network's State with Test Images\n",
    "\n",
    " This Section is not required to complete but acts as an additional excersise for understaning the output of a neural network's weights. While neural networks can be a great learning device they are often referred to as a black box. We can understand what the weights of a neural network look like better by plotting their feature maps. After successfully training your neural network you can see what it's feature maps look like by plotting the output of the network's weight layers in response to a test stimuli image. From these plotted feature maps, it's possible to see what characteristics of an image the network finds interesting. For a sign, maybe the inner network feature maps react with high activation to the sign's boundary outline or to the contrast in the sign's painted symbol.\n",
    "\n",
    " Provided for you below is the function code that allows you to get the visualization output of any tensorflow weight layer you want. The inputs to the function should be a stimuli image, one used during training or a new one you provided, and then the tensorflow variable name that represents the layer's state during the training process, for instance if you wanted to see what the [LeNet lab's](https://classroom.udacity.com/nanodegrees/nd013/parts/fbf77062-5703-404e-b60c-95b78b2f3f9e/modules/6df7ae49-c61c-4bb2-a23e-6527e69209ec/lessons/601ae704-1035-4287-8b11-e2c2716217ad/concepts/d4aca031-508f-4e0b-b493-e7b706120f81) feature maps looked like for it's second convolutional layer you could enter conv2 as the tf_activation variable.\n",
    "\n",
    "For an example of what feature map outputs look like, check out NVIDIA's results in their paper [End-to-End Deep Learning for Self-Driving Cars](https://devblogs.nvidia.com/parallelforall/deep-learning-self-driving-cars/) in the section Visualization of internal CNN State. NVIDIA was able to show that their network's inner weights had high activations to road boundary lines by comparing feature maps from an image with a clear path to one without. Try experimenting with a similar test to show that your trained network's weights are looking for interesting features, whether it's looking at differences in feature maps from images with or without a sign, or even what feature maps look like in a trained network vs a completely untrained one on the same sign image.\n",
    "\n",
    "<figure>\n",
    " <img src=\"visualize_cnn.png\" width=\"380\" alt=\"Combined Image\" />\n",
    " <figcaption>\n",
    " <p></p> \n",
    " <p style=\"text-align: center;\"> Your output should look something like this (above)</p> \n",
    " </figcaption>\n",
    "</figure>\n",
    " <p></p> \n"
   ]
  },
  {
   "cell_type": "code",
   "execution_count": 22,
   "metadata": {},
   "outputs": [],
   "source": [
    "### Visualize your network's feature maps here.\n",
    "### Feel free to use as many code cells as needed.\n",
    "\n",
    "# image_input: the test image being fed into the network to produce the feature maps\n",
    "# tf_activation: should be a tf variable name used during your training procedure that represents the calculated state of a specific weight layer\n",
    "# activation_min/max: can be used to view the activation contrast in more detail, by default matplot sets min and max to the actual min and max values of the output\n",
    "# plt_num: used to plot out multiple different weight feature map sets on the same block, just extend the plt number for each new feature map entry\n",
    "\n",
    "def outputFeatureMap(image_input, tf_activation, activation_min=-1, activation_max=-1 ,plt_num=1):\n",
    "    # Here make sure to preprocess your image_input in a way your network expects\n",
    "    # with size, normalization, ect if needed\n",
    "    # image_input =\n",
    "    # Note: x should be the same name as your network's tensorflow data placeholder variable\n",
    "    # If you get an error tf_activation is not defined it may be having trouble accessing the variable from inside a function\n",
    "    activation = tf_activation.eval(session=sess,feed_dict={x : image_input})\n",
    "    featuremaps = activation.shape[3]\n",
    "    plt.figure(plt_num, figsize=(15,15))\n",
    "    for featuremap in range(featuremaps):\n",
    "        plt.subplot(6,8, featuremap+1) # sets the number of feature maps to show on each row and column\n",
    "        plt.title('FeatureMap ' + str(featuremap)) # displays the feature map number\n",
    "        if activation_min != -1 & activation_max != -1:\n",
    "            plt.imshow(activation[0,:,:, featuremap], interpolation=\"nearest\", vmin =activation_min, vmax=activation_max, cmap=\"gray\")\n",
    "        elif activation_max != -1:\n",
    "            plt.imshow(activation[0,:,:, featuremap], interpolation=\"nearest\", vmax=activation_max, cmap=\"gray\")\n",
    "        elif activation_min !=-1:\n",
    "            plt.imshow(activation[0,:,:, featuremap], interpolation=\"nearest\", vmin=activation_min, cmap=\"gray\")\n",
    "        else:\n",
    "            plt.imshow(activation[0,:,:, featuremap], interpolation=\"nearest\", cmap=\"gray\")"
   ]
  }
 ],
 "metadata": {
  "anaconda-cloud": {},
  "kernelspec": {
   "display_name": "Python 3",
   "language": "python",
   "name": "python3"
  },
  "language_info": {
   "codemirror_mode": {
    "name": "ipython",
    "version": 3
   },
   "file_extension": ".py",
   "mimetype": "text/x-python",
   "name": "python",
   "nbconvert_exporter": "python",
   "pygments_lexer": "ipython3",
   "version": "3.6.5"
  },
  "widgets": {
   "state": {
    "07fb3fb4a312474083a24fdc2ff10eea": {
     "views": [
      {
       "cell_index": 25
      }
     ]
    },
    "0a24f3ba594e4ba4b9082b1bd067deac": {
     "views": [
      {
       "cell_index": 25
      }
     ]
    },
    "0c3d8dcf57504aaca86b58e03fb3eed7": {
     "views": [
      {
       "cell_index": 25
      }
     ]
    },
    "0ed68125ad1f411ea30aff9ea17b390c": {
     "views": [
      {
       "cell_index": 25
      }
     ]
    },
    "116fa050befc4d49b277abbcedd035ba": {
     "views": [
      {
       "cell_index": 25
      }
     ]
    },
    "14a22d108a8d405486ebee5d94c8a1ad": {
     "views": [
      {
       "cell_index": 25
      }
     ]
    },
    "16c49f9286ed45d1ad291c9e6d7c42e9": {
     "views": [
      {
       "cell_index": 25
      }
     ]
    },
    "1a08bc6bce5848a9a6e0d598fd31faab": {
     "views": [
      {
       "cell_index": 25
      }
     ]
    },
    "2628b8051fbe4a26b4fe8d1aa95b2876": {
     "views": [
      {
       "cell_index": 25
      }
     ]
    },
    "27d315139e9344e6a0ec2001dfb141f7": {
     "views": [
      {
       "cell_index": 25
      }
     ]
    },
    "2c524e9ce1ad4b34b4b02f1625c0d2ab": {
     "views": [
      {
       "cell_index": 25
      }
     ]
    },
    "2e6a2b5e3f6f4bed9adb1dbfd7855573": {
     "views": [
      {
       "cell_index": 26
      }
     ]
    },
    "30e8368cc48f4470a1d287b280691702": {
     "views": [
      {
       "cell_index": 25
      }
     ]
    },
    "314bef4871bb47c5b9b19b1bdd0bb241": {
     "views": [
      {
       "cell_index": 25
      }
     ]
    },
    "37335371dfc444bc9ddff25dbda66d55": {
     "views": [
      {
       "cell_index": 25
      }
     ]
    },
    "38f581d66fa54647831fb3f3e1e4ed6d": {
     "views": [
      {
       "cell_index": 25
      }
     ]
    },
    "3ae21431b50d461d8429ba8c727e493b": {
     "views": [
      {
       "cell_index": 25
      }
     ]
    },
    "3ebcb1aa880b485ab98fbb7bfc466e3d": {
     "views": [
      {
       "cell_index": 25
      }
     ]
    },
    "43c87e5b622e4dbe9418b08d070efb1b": {
     "views": [
      {
       "cell_index": 25
      }
     ]
    },
    "454be087ac2049718c911d841bf372f1": {
     "views": [
      {
       "cell_index": 25
      }
     ]
    },
    "4578ad7d69484f2d921543f03a672f6d": {
     "views": [
      {
       "cell_index": 25
      }
     ]
    },
    "472fcb385c724c479d58a7c591958132": {
     "views": [
      {
       "cell_index": 26
      }
     ]
    },
    "4b3b177de01a48389e23fb19d13c2008": {
     "views": [
      {
       "cell_index": 25
      }
     ]
    },
    "4c6a5513399d4deba2946af58d1a5178": {
     "views": [
      {
       "cell_index": 25
      }
     ]
    },
    "59e170d90315468cb32d3ac94cb3f5e1": {
     "views": [
      {
       "cell_index": 25
      }
     ]
    },
    "5baf0428bbff43efa30dc1adf51b69fb": {
     "views": [
      {
       "cell_index": 25
      }
     ]
    },
    "6193c1feb27749299621e998bd91baa0": {
     "views": [
      {
       "cell_index": 25
      }
     ]
    },
    "6366ace4d9f046c1a9aebb2522f39cad": {
     "views": [
      {
       "cell_index": 25
      }
     ]
    },
    "64c8962cbd3045fea2cfe69e5b37c813": {
     "views": [
      {
       "cell_index": 25
      }
     ]
    },
    "65f99ffed3cf4312a6ad4a234648f277": {
     "views": [
      {
       "cell_index": 25
      }
     ]
    },
    "6ab5f0fb24dc43d682623492c03ece29": {
     "views": [
      {
       "cell_index": 25
      }
     ]
    },
    "6ae4b9be94ce4e62879879c8eeed895c": {
     "views": [
      {
       "cell_index": 25
      }
     ]
    },
    "74efbd47b9974038af55caaa42ec120b": {
     "views": [
      {
       "cell_index": 25
      }
     ]
    },
    "752d2e2f0da7456295c5341e9cf63739": {
     "views": [
      {
       "cell_index": 25
      }
     ]
    },
    "7b99123c526746e6841b287915c81714": {
     "views": [
      {
       "cell_index": 25
      }
     ]
    },
    "8133767d8b1e45d68f85faaba35174aa": {
     "views": [
      {
       "cell_index": 25
      }
     ]
    },
    "834e6c93aa6240539f1bf890b2eb7b70": {
     "views": [
      {
       "cell_index": 25
      }
     ]
    },
    "894ce2b930ba42d082d595a6a0b92eed": {
     "views": [
      {
       "cell_index": 25
      }
     ]
    },
    "89e3788d3b4c42228f5a230aef698636": {
     "views": [
      {
       "cell_index": 25
      }
     ]
    },
    "8aa9d07f8052405a90ebbfd32b7ba411": {
     "views": [
      {
       "cell_index": 25
      }
     ]
    },
    "8df8bddcf9c842c2b2227ae7817e9d70": {
     "views": [
      {
       "cell_index": 25
      }
     ]
    },
    "94c3217f0f934c4f96437a4b7f0438ce": {
     "views": [
      {
       "cell_index": 25
      }
     ]
    },
    "9f7ef3d317604dc9ae9c540508a2994d": {
     "views": [
      {
       "cell_index": 25
      }
     ]
    },
    "a25dd35311f647cbb9c3a28081b83995": {
     "views": [
      {
       "cell_index": 25
      }
     ]
    },
    "a73ddf22ecd34e6f90fedd2074e5ca1d": {
     "views": [
      {
       "cell_index": 25
      }
     ]
    },
    "a84740eced6946229db17ab0e2a73e53": {
     "views": [
      {
       "cell_index": 25
      }
     ]
    },
    "a88349b78dd84307a2eb97d0b6389f1d": {
     "views": [
      {
       "cell_index": 25
      }
     ]
    },
    "afcf7482df6b4f2eb8c0ef037f5116de": {
     "views": [
      {
       "cell_index": 25
      }
     ]
    },
    "b4f839dd368d4055bfe42971862dd124": {
     "views": [
      {
       "cell_index": 25
      }
     ]
    },
    "ba306467406f4ab9913f3e4aa08e66e3": {
     "views": [
      {
       "cell_index": 26
      }
     ]
    },
    "bb3ce9de930740f48267a5d40bdff0c1": {
     "views": [
      {
       "cell_index": 25
      }
     ]
    },
    "c013a9458747487d85dcae2755682e60": {
     "views": [
      {
       "cell_index": 25
      }
     ]
    },
    "c2e28403e5234f42aec6923a4575d742": {
     "views": [
      {
       "cell_index": 25
      }
     ]
    },
    "c75f1fd82bfc4fc697c4e517f53e292d": {
     "views": [
      {
       "cell_index": 25
      }
     ]
    },
    "e0f99ac1041248e9aab38860242b5548": {
     "views": [
      {
       "cell_index": 25
      }
     ]
    },
    "e1ce71c444034e4db4c2983965d3989a": {
     "views": [
      {
       "cell_index": 25
      }
     ]
    },
    "e2fa88b69b2b446a8e9a4cfcc5212b58": {
     "views": [
      {
       "cell_index": 25
      }
     ]
    },
    "e480df5e35bb4cbc8bc113e6a2a6d3fd": {
     "views": [
      {
       "cell_index": 25
      }
     ]
    },
    "e4e34332c9e04c30ab640f0ed8ddb5e6": {
     "views": [
      {
       "cell_index": 25
      }
     ]
    },
    "e6eba801a28540c4b600e59010158967": {
     "views": [
      {
       "cell_index": 25
      }
     ]
    },
    "e75c089ca3f647988a6d829b178dbc40": {
     "views": [
      {
       "cell_index": 25
      }
     ]
    },
    "ec92c8ae59464b0e92081b6af2e24e1a": {
     "views": [
      {
       "cell_index": 25
      }
     ]
    },
    "f3cab245719c40039e1e052a8ee8fa7b": {
     "views": [
      {
       "cell_index": 25
      }
     ]
    },
    "f478abd6900d4314a17cb88563903352": {
     "views": [
      {
       "cell_index": 25
      }
     ]
    },
    "f9969390ff14410ab9eba045f28f2a4c": {
     "views": [
      {
       "cell_index": 25
      }
     ]
    },
    "fc499c39943f42f5aa256f61eea70de2": {
     "views": [
      {
       "cell_index": 25
      }
     ]
    },
    "fe512f4ca6f0468d93d25bbd3d29876c": {
     "views": [
      {
       "cell_index": 25
      }
     ]
    }
   },
   "version": "1.2.0"
  }
 },
 "nbformat": 4,
 "nbformat_minor": 1
}
